{
 "cells": [
  {
   "cell_type": "code",
   "execution_count": null,
   "metadata": {},
   "outputs": [],
   "source": [
    "import pandas as pd\n",
    "import numpy as np\n",
    "import matplotlib.pyplot as plt\n",
    "import seaborn as sns\n",
    "from pathlib import Path\n",
    "from sqlalchemy import create_engine\n",
    "from sqlalchemy.engine.url import URL\n",
    "import config\n",
    "from config import CONNSTRING\n",
    "from sklearn.model_selection import train_test_split"
   ]
  },
  {
   "cell_type": "code",
   "execution_count": null,
   "metadata": {},
   "outputs": [],
   "source": [
    "engine= create_engine(CONNSTRING)\n",
    "\n",
    "query = \"SELECT * FROM customer_data\"\n",
    "df = pd.read_sql(query, engine)\n"
   ]
  },
  {
   "cell_type": "code",
   "execution_count": null,
   "metadata": {},
   "outputs": [],
   "source": [
    "df.head()"
   ]
  },
  {
   "cell_type": "code",
   "execution_count": null,
   "metadata": {},
   "outputs": [],
   "source": [
    "df.columns"
   ]
  },
  {
   "cell_type": "code",
   "execution_count": null,
   "metadata": {},
   "outputs": [],
   "source": [
    "#Step 1: Data Preprocessing\n",
    "# Converting columns to appropriate data types\n",
    "df['Customer ID'] = df['Customer ID'].astype(int)  # Assuming 'Customer ID' is an integer\n",
    "df['age'] = df['age'].astype(int)  # Age is an integer\n",
    "df['gender'] = df['gender'].astype('category')  # Gender as category\n",
    "df['Item Purchased'] = df['Item Purchased'].astype('category')  # Item Purchased as category\n",
    "df['category'] = df['category'].astype('category')  # Category as category\n",
    "df['Purchase Amount (USD)'] = df['Purchase Amount (USD)'].astype(float)  # Purchase Amount as float\n",
    "df['location'] = df['location'].astype('category')  # Location as category\n",
    "df['size'] = df['size'].astype('category')  # Size as category\n",
    "df['color'] = df['color'].astype('category')  # Color as category\n",
    "df['season'] = df['season'].astype('category')  # Season as category\n",
    "df['Review Rating'] = df['Review Rating'].astype(float)  # Review Rating as float\n",
    "df['Subscription Status'] = df['Subscription Status'].astype('category')  # Subscription Status as category\n",
    "df['Shipping Type'] = df['Shipping Type'].astype('category')  # Shipping Type as category\n",
    "df['Discount Applied'] = df['Discount Applied'].astype('category')  # Discount Applied as category (assuming 'Yes'/'No')\n",
    "df['Promo Code Used'] = df['Promo Code Used'].astype('category')  # Promo Code Used as category\n",
    "df['Previous Purchases'] = df['Previous Purchases'].astype(int)  # Previous Purchases as integer\n",
    "df['Payment Method'] = df['Payment Method'].astype('category')  # Payment Method as category\n",
    "df['Frequency of Purchases'] = df['Frequency of Purchases'].astype('category')  # Frequency of Purchases as category"
   ]
  },
  {
   "cell_type": "code",
   "execution_count": null,
   "metadata": {},
   "outputs": [],
   "source": []
  }
 ],
 "metadata": {
  "language_info": {
   "name": "python"
  }
 },
 "nbformat": 4,
 "nbformat_minor": 2
}
